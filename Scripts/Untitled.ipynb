{
 "cells": [
  {
   "cell_type": "code",
   "execution_count": 1,
   "id": "479c96e4",
   "metadata": {},
   "outputs": [],
   "source": [
    "import pandas as pd\n",
    "import numpy as np"
   ]
  },
  {
   "cell_type": "code",
   "execution_count": 2,
   "id": "4664cf8a",
   "metadata": {},
   "outputs": [],
   "source": [
    "csv_path = '/Users/kalina/Documents/CBIG/Project_MedSAM_Testing/Results/dice_scores_all.csv'\n",
    "dice_scores = pd.read_csv(csv_path)\n",
    "cases_list = []"
   ]
  },
  {
   "cell_type": "code",
   "execution_count": 3,
   "id": "6586bd1d",
   "metadata": {},
   "outputs": [],
   "source": [
    "for idx in range(0,len(dice_scores.index)):\n",
    "    im_file_i = dice_scores.loc[idx,'Image']\n",
    "    case_i = im_file_i.split(\"_\")[0]\n",
    "    cases_list.append(case_i)"
   ]
  },
  {
   "cell_type": "code",
   "execution_count": 4,
   "id": "da5ab315",
   "metadata": {},
   "outputs": [
    {
     "name": "stdout",
     "output_type": "stream",
     "text": [
      "3607\n"
     ]
    }
   ],
   "source": [
    "print(len(cases_list))"
   ]
  },
  {
   "cell_type": "code",
   "execution_count": 7,
   "id": "07cecf11",
   "metadata": {},
   "outputs": [],
   "source": [
    "dice_scores.insert(0,\"Cases\",cases_list, True)"
   ]
  },
  {
   "cell_type": "code",
   "execution_count": 9,
   "id": "b9194415",
   "metadata": {},
   "outputs": [
    {
     "name": "stdout",
     "output_type": "stream",
     "text": [
      "     Cases                Image      DICE\n",
      "0      101  101_img_sli_003.npy  0.473948\n",
      "1      102  102_img_sli_001.npy  0.192077\n",
      "2      102  102_img_sli_003.npy  0.240602\n",
      "3      102  102_img_sli_004.npy  0.263113\n",
      "4      103  103_img_sli_000.npy  0.167519\n",
      "...    ...                  ...       ...\n",
      "3602    98   98_img_sli_001.npy  0.143894\n",
      "3603    98   98_img_sli_003.npy  0.185319\n",
      "3604    98   98_img_sli_006.npy  0.255407\n",
      "3605    98   98_img_sli_009.npy  0.616920\n",
      "3606     9    9_img_sli_002.npy  0.465672\n",
      "\n",
      "[3607 rows x 3 columns]\n"
     ]
    }
   ],
   "source": [
    "print(dice_scores)"
   ]
  },
  {
   "cell_type": "code",
   "execution_count": 13,
   "id": "c264d1ea",
   "metadata": {},
   "outputs": [
    {
     "name": "stdout",
     "output_type": "stream",
     "text": [
      "    Cases      DICE\n",
      "0     101  0.515692\n",
      "1     102  0.260861\n",
      "2     103  0.418349\n",
      "3     104  0.348511\n",
      "4     105  0.452886\n",
      "..    ...       ...\n",
      "293    94  0.289501\n",
      "294    95  0.453046\n",
      "295    96  0.409383\n",
      "296    97  0.338176\n",
      "297    98  0.323555\n",
      "\n",
      "[298 rows x 2 columns]\n"
     ]
    }
   ],
   "source": [
    "new_dice = dice_scores.groupby('Cases').mean().reset_index()\n",
    "print(new_dice)"
   ]
  },
  {
   "cell_type": "code",
   "execution_count": 14,
   "id": "d7fbff28",
   "metadata": {},
   "outputs": [],
   "source": [
    "new_dice.to_csv('/Users/kalina/Documents/CBIG/Project_MedSAM_Testing/Results/dice_scores_mean.csv')"
   ]
  },
  {
   "cell_type": "code",
   "execution_count": null,
   "id": "c2fb6dc8",
   "metadata": {},
   "outputs": [],
   "source": []
  }
 ],
 "metadata": {
  "kernelspec": {
   "display_name": "Python 3 (ipykernel)",
   "language": "python",
   "name": "python3"
  },
  "language_info": {
   "codemirror_mode": {
    "name": "ipython",
    "version": 3
   },
   "file_extension": ".py",
   "mimetype": "text/x-python",
   "name": "python",
   "nbconvert_exporter": "python",
   "pygments_lexer": "ipython3",
   "version": "3.9.12"
  }
 },
 "nbformat": 4,
 "nbformat_minor": 5
}
